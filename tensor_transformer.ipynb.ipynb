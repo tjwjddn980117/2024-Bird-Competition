{
 "cells": [
  {
   "cell_type": "code",
   "execution_count": null,
   "metadata": {},
   "outputs": [],
   "source": [
    "!pip install tensorflow[cuda-and]==2.15.1\n",
    "!pip install keras-cv-attention-models\n",
    "!pip install pandas\n",
    "!pip install keras-cv\n",
    "!pip install scikit-learn\n",
    "!pip install tqdm glob\n",
    "!pip install silence_tensorflow"
   ]
  },
  {
   "cell_type": "code",
   "execution_count": null,
   "metadata": {},
   "outputs": [],
   "source": [
    "import os\n",
    "import warnings\n",
    "warnings.filterwarnings(\"ignore\")\n",
    "\n",
    "from silence_tensorflow import silence_tensorflow\n",
    "silence_tensorflow()\n",
    "\n",
    "import numpy as np\n",
    "import pandas as pd\n",
    "import keras\n",
    "import keras_cv\n",
    "import tensorflow as tf\n",
    "import keras.backend as K\n",
    "\n",
    "from tqdm import tqdm\n",
    "from keras_cv_attention_models import swin_transformer_v2\n",
    "from glob import glob\n",
    "from sklearn.model_selection import StratifiedKFold\n",
    "from sklearn.preprocessing import OneHotEncoder\n",
    "from IPython.display import clear_output"
   ]
  },
  {
   "cell_type": "code",
   "execution_count": null,
   "metadata": {},
   "outputs": [],
   "source": [
    "SEED = 42\n",
    "IMG_SIZE = 256\n",
    "BATCH_SIZE = 32\n",
    "EPOCHS = 100\n",
    "NUM_CLASSES = 25\n",
    "VERSION = \"v4\"\n",
    "AUTOTUNE = tf.data.AUTOTUNE\n",
    "\n",
    "keras.utils.set_random_seed(SEED)\n",
    "os.environ['PYTHONHASHSEED'] = str(SEED)\n",
    "os.environ['TF_CUDNN_DETERMINISTIC'] = \"1\"\n",
    "os.environ['TF_USE_CUDNN'] = \"true\""
   ]
  },
  {
   "cell_type": "code",
   "execution_count": null,
   "metadata": {},
   "outputs": [],
   "source": [
    "df_train = pd.read_csv(\"../../data/train.csv\")\n",
    "df_train[\"img_path\"] = df_train[\"img_path\"].apply(lambda x: x.replace(\"./train\", \"../../data/train\"))"
   ]
  },
  {
   "cell_type": "code",
   "execution_count": null,
   "metadata": {},
   "outputs": [],
   "source": [
    "X = df_train[\"img_path\"].to_numpy()\n",
    "y = df_train[\"label\"].to_numpy()"
   ]
  },
  {
   "cell_type": "code",
   "execution_count": null,
   "metadata": {},
   "outputs": [],
   "source": [
    "def read_image(image_path, label=None):\n",
    "    image = tf.io.read_file(image_path)\n",
    "    image = tf.image.decode_jpeg(image, channels=3)    \n",
    "    image = tf.cast(image, tf.float32)    \n",
    "    \n",
    "    if label is None:\n",
    "        return image\n",
    "    \n",
    "    label = tf.cast(label, tf.float32)\n",
    "    return (image, label)\n",
    "\n",
    "def resize(image, label=None, size=IMG_SIZE):\n",
    "    image = tf.image.resize(image, (size, size), \"bicubic\")\n",
    "    \n",
    "    if label is None:\n",
    "        return image    \n",
    "    return (image, label)\n",
    "\n",
    "zoom_out = keras_cv.layers.RandomZoom((0.1, 0.4))\n",
    "zoom_in = keras_cv.layers.RandomZoom((-0.4, -0.1))\n",
    "\n",
    "aug_layers = [\n",
    "    keras_cv.layers.RandomApply(keras_cv.layers.RandomChoice([zoom_out, zoom_in])),\n",
    "    keras_cv.layers.RandomApply(layer=keras_cv.layers.RandomRotation(factor=(-0.2, 0.2))),\n",
    "    keras_cv.layers.RandomApply(layer=keras_cv.layers.RandomBrightness(factor=0.2)),\n",
    "    keras_cv.layers.RandomApply(layer=keras_cv.layers.RandomContrast(value_range=(0, 255), factor=0.2)),\n",
    "    keras_cv.layers.RandomApply(layer=keras_cv.layers.RandomShear(0.2, 0.2))\n",
    "]\n",
    "\n",
    "def apply_augment(image, label=None):    \n",
    "    for layer in aug_layers:        \n",
    "        image = layer(image)\n",
    "        \n",
    "    if label is None:\n",
    "        return image\n",
    "    return (image, label)"
   ]
  },
  {
   "cell_type": "code",
   "execution_count": null,
   "metadata": {},
   "outputs": [],
   "source": [
    "ohe = OneHotEncoder(sparse_output=False)\n",
    "ohe.fit(y.reshape(-1, 1))"
   ]
  },
  {
   "cell_type": "code",
   "execution_count": null,
   "metadata": {},
   "outputs": [],
   "source": [
    "def build_model():\n",
    "    keras.mixed_precision.set_global_policy(\"mixed_float16\")\n",
    "    inputs = keras.Input((IMG_SIZE, IMG_SIZE, 3))\n",
    "\n",
    "    backbone = swin_transformer_v2.SwinTransformerV2Base_window16(\n",
    "        input_shape=(IMG_SIZE, IMG_SIZE, 3),\n",
    "        num_classes=0,    \n",
    "        pretrained=\"imagenet22k\"\n",
    "    )\n",
    "    x = keras.layers.Rescaling(scale=1./127.5, offset=-1.)(inputs)\n",
    "    x = backbone(x)\n",
    "    x = keras.layers.GlobalAveragePooling2D()(x)\n",
    "\n",
    "    outputs = keras.layers.Dense(NUM_CLASSES, activation=\"softmax\", dtype=\"float32\")(x)\n",
    "\n",
    "    model = keras.Model(inputs, outputs)\n",
    "    return model\n",
    "\n",
    "class DisplayCallback(keras.callbacks.Callback):\n",
    "    def on_epoch_end(self, epoch, logs=None):\n",
    "        if epoch % 5 == 0:\n",
    "            clear_output(wait=True)"
   ]
  },
  {
   "cell_type": "code",
   "execution_count": null,
   "metadata": {},
   "outputs": [],
   "source": [
    "skf = StratifiedKFold(n_splits=5, random_state=SEED, shuffle=True)\n",
    "for fold, (train_idx, valid_idx) in enumerate(skf.split(X, y)):\n",
    "    X_train, y_train = X[train_idx], y[train_idx]\n",
    "    X_valid, y_valid = X[valid_idx], y[valid_idx]    \n",
    "    \n",
    "    y_train = ohe.transform(y_train.reshape(-1, 1))\n",
    "    y_valid = ohe.transform(y_valid.reshape(-1, 1))\n",
    "    \n",
    "    ds_train = tf.data.Dataset.from_tensor_slices((X_train, y_train)).shuffle(len(y_train))\n",
    "    ds_train = ds_train.map(lambda image, label: read_image(image, label), num_parallel_calls=AUTOTUNE).cache()\n",
    "    ds_train = ds_train.map(lambda image, label: resize(image, label), num_parallel_calls=AUTOTUNE)    \n",
    "    ds_train = ds_train.map(lambda image, label: apply_augment(image, label), num_parallel_calls=AUTOTUNE)        \n",
    "    ds_train = ds_train.batch(BATCH_SIZE)\n",
    "\n",
    "    ds_valid = tf.data.Dataset.from_tensor_slices((X_valid, y_valid))\n",
    "    ds_valid = ds_valid.map(lambda image, label: read_image(image, label), num_parallel_calls=AUTOTUNE)\n",
    "    ds_valid = ds_valid.map(lambda image, label: resize(image, label), num_parallel_calls=AUTOTUNE)\n",
    "    ds_valid = ds_valid.batch(BATCH_SIZE).prefetch(AUTOTUNE).cache()\n",
    "    \n",
    "    callbacks = [    \n",
    "        DisplayCallback(),\n",
    "        keras.callbacks.TensorBoard(log_dir=f\"../../logs/keras/{VERSION}/fold_{fold}\"),\n",
    "        keras.callbacks.EarlyStopping(monitor=\"val_f1\", mode=\"max\", verbose=0, patience=5),\n",
    "        keras.callbacks.ModelCheckpoint(f\"../../ckpts/keras/{VERSION}/fold_{fold}.keras\", monitor=\"val_f1\", mode=\"max\", save_best_only=True),\n",
    "        keras.callbacks.ReduceLROnPlateau(monitor=\"val_f1\", mode=\"min\", factor=0.8, patience=3)\n",
    "    ]\n",
    "\n",
    "    optimizer = keras.optimizers.AdamW(1e-5)\n",
    "    loss = keras.losses.CategoricalFocalCrossentropy(from_logits=False)\n",
    "    f1 = keras.metrics.F1Score(average=\"macro\", name=\"f1\")\n",
    "    \n",
    "    model = build_model()\n",
    "    model.compile(optimizer=optimizer, loss=loss, metrics=[f1])\n",
    "    model.fit(ds_train, validation_data=ds_valid, epochs=EPOCHS, callbacks=callbacks)\n",
    "    \n",
    "    K.clear_session()    "
   ]
  },
  {
   "cell_type": "code",
   "execution_count": null,
   "metadata": {},
   "outputs": [],
   "source": [
    "X_test = sorted(glob(\"../../data/test/*.jpg\"))\n",
    "\n",
    "ds_test = tf.data.Dataset.from_tensor_slices(X_test)\n",
    "ds_test = ds_test.map(lambda image: read_image(image), num_parallel_calls=AUTOTUNE)\n",
    "ds_test = ds_test.map(lambda image: resize(image), num_parallel_calls=AUTOTUNE)\n",
    "ds_test = ds_test.batch(BATCH_SIZE*2).prefetch(AUTOTUNE).cache()\n",
    "\n",
    "y_preds = []\n",
    "for cpkt in tqdm(glob(f\"../../ckpts/keras/{VERSION}/fold_*.keras\")):        \n",
    "    best_model = keras.models.load_model(cpkt, compile=False)\n",
    "    y_preds.append(best_model.predict(ds_test, verbose=0))\n",
    "    \n",
    "    K.clear_session()\n",
    "\n",
    "y_preds = np.sum(np.array(y_preds), axis=0)\n",
    "y_preds = ohe.inverse_transform(y_preds).reshape(-1)"
   ]
  },
  {
   "cell_type": "code",
   "execution_count": null,
   "metadata": {},
   "outputs": [],
   "source": [
    "df_submission = pd.read_csv(\"../../data/sample_submission.csv\")\n",
    "df_submission[\"label\"] = y_preds\n",
    "df_submission.to_csv(f\"../../results/keras/{VERSION}.csv\", index=False)"
   ]
  }
 ],
 "metadata": {
  "kernelspec": {
   "display_name": "keras-tf",
   "language": "python",
   "name": "python3"
  },
  "language_info": {
   "codemirror_mode": {
    "name": "ipython",
    "version": 3
   },
   "file_extension": ".py",
   "mimetype": "text/x-python",
   "name": "python",
   "nbconvert_exporter": "python",
   "pygments_lexer": "ipython3",
   "version": "3.11.9"
  }
 },
 "nbformat": 4,
 "nbformat_minor": 2
}
